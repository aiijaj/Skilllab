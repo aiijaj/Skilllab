{
 "cells": [
  {
   "cell_type": "code",
   "execution_count": 14,
   "id": "e0557fa7-c6ff-4664-b6ce-f35992ad24d9",
   "metadata": {},
   "outputs": [
    {
     "name": "stdout",
     "output_type": "stream",
     "text": [
      "4321\n"
     ]
    }
   ],
   "source": [
    "num=1234\n",
    "reversed_num=0\n",
    "while num!=0:\n",
    "    digit=num%10\n",
    "    reversed_num=reversed_num*10+digit\n",
    "    num//=10\n",
    "print(reversed_num)"
   ]
  },
  {
   "cell_type": "code",
   "execution_count": null,
   "id": "fc651aaa-5755-4b8d-95f8-280aadc72355",
   "metadata": {},
   "outputs": [],
   "source": [
    "def rev(num):\n",
    "    r=str(num)\n",
    "    return r[::-1]"
   ]
  },
  {
   "cell_type": "code",
   "execution_count": 25,
   "id": "820fb488-3c7f-4d99-b515-129d36a2cb5b",
   "metadata": {},
   "outputs": [
    {
     "name": "stdout",
     "output_type": "stream",
     "text": [
      "False\n"
     ]
    }
   ],
   "source": [
    "num1=1234\n",
    "num=1234\n",
    "reversed_num=0\n",
    "while num!=0:\n",
    "    digit=num%10\n",
    "    reversed_num=reversed_num*10+digit\n",
    "    num//=10\n",
    "    #return num==reversed_num\n",
    "if num1==reversed_num:\n",
    "   print(True)\n",
    "else: \n",
    "   print(False)"
   ]
  },
  {
   "cell_type": "code",
   "execution_count": null,
   "id": "cbf5dada-9a30-41d6-a60d-7ac9cae07642",
   "metadata": {},
   "outputs": [],
   "source": [
    "result=[]\n",
    "for i in range(1,n+1):\n",
    "    if i%3==0 and i%5==0:\n",
    "        result.append(\"FIzzBuzz\")\n",
    "    elif i%3==0:\n",
    "        result.append(\"Fizz\")\n",
    "    elif i%5==0:\n",
    "        result.append(\"Buzz\")\n",
    "    else:\n",
    "        result.append(str(i))\n",
    "return result\n",
    "    \n",
    "    \n"
   ]
  },
  {
   "cell_type": "code",
   "execution_count": null,
   "id": "27ee7b44-2446-4b58-a4fb-839fb470d917",
   "metadata": {},
   "outputs": [],
   "source": []
  }
 ],
 "metadata": {
  "kernelspec": {
   "display_name": "Python 3 (ipykernel)",
   "language": "python",
   "name": "python3"
  },
  "language_info": {
   "codemirror_mode": {
    "name": "ipython",
    "version": 3
   },
   "file_extension": ".py",
   "mimetype": "text/x-python",
   "name": "python",
   "nbconvert_exporter": "python",
   "pygments_lexer": "ipython3",
   "version": "3.11.7"
  }
 },
 "nbformat": 4,
 "nbformat_minor": 5
}
