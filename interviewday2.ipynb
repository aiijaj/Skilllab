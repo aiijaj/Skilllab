{
 "cells": [
  {
   "cell_type": "code",
   "execution_count": 1,
   "id": "0c66887a-a718-4500-a639-206b7be48046",
   "metadata": {},
   "outputs": [
    {
     "data": {
      "text/plain": [
       "'--helloworldhi'"
      ]
     },
     "execution_count": 1,
     "metadata": {},
     "output_type": "execute_result"
    }
   ],
   "source": [
    "def hyphen(s):\n",
    "    alph=''\n",
    "    hypn=''\n",
    "    for i in s:\n",
    "        if i=='-':\n",
    "            hypn=hypn+i #\n",
    "        else:\n",
    "            alph=alph+i\n",
    "    return hypn+alph\n",
    "hyphen(\"hello-world-hi\")"
   ]
  },
  {
   "cell_type": "code",
   "execution_count": 25,
   "id": "8ef77c3c-573e-4400-92bd-482eb9bfa7f7",
   "metadata": {},
   "outputs": [
    {
     "name": "stdout",
     "output_type": "stream",
     "text": [
      "4BA\n"
     ]
    }
   ],
   "source": [
    "num1 = 718\n",
    "num2 = 12\n",
    "reminder = []\n",
    "q = num1 // num2\n",
    "reminder.append(num1 % num2)\n",
    "\n",
    "while q != 0:\n",
    "    reminder.append(q % num2)\n",
    "    q = q // num2\n",
    "  \n",
    "\n",
    "result = ''\n",
    "for i in reminder:\n",
    "    if i >= 10:\n",
    "        c = chr(i + 55)\n",
    "        result = result + c\n",
    "    else:\n",
    "        c = str(i)\n",
    "        result = result + c\n",
    "\n",
    "print(result[::-1])\n"
   ]
  },
  {
   "cell_type": "code",
   "execution_count": 31,
   "id": "519adbe6-28f4-481e-840c-25ad10e906b7",
   "metadata": {},
   "outputs": [],
   "source": [
    "def password(pwd):\n",
    "    if len(pwd)<4:\n",
    "        return 0\n",
    "    if pwd[0].isdigit():\n",
    "        return 0\n",
    "    cap=0\n",
    "    nu=0\n",
    "    for i in pwd:\n",
    "        if i.isupper():\n",
    "            cap=1\n",
    "        elif i.isdigit():\n",
    "            nu=1\n",
    "        elif i==\" \" or i==\"/\":\n",
    "            return 0\n",
    "        if cap==1 and nu==1:\n",
    "            return 1\n"
   ]
  },
  {
   "cell_type": "code",
   "execution_count": 35,
   "id": "c1611c39-6708-4359-9a4b-c17bdb06b620",
   "metadata": {},
   "outputs": [
    {
     "data": {
      "text/plain": [
       "0"
      ]
     },
     "execution_count": 35,
     "metadata": {},
     "output_type": "execute_result"
    }
   ],
   "source": [
    "password(\"s @22A\")"
   ]
  },
  {
   "cell_type": "code",
   "execution_count": 42,
   "id": "30e2d0ee-65d6-4b99-9466-53dddc36245e",
   "metadata": {},
   "outputs": [
    {
     "name": "stdin",
     "output_type": "stream",
     "text": [
      " 4\n",
      " 20\n"
     ]
    },
    {
     "name": "stdout",
     "output_type": "stream",
     "text": [
      "90\n"
     ]
    }
   ],
   "source": [
    "n=int(input())\n",
    "m=int(input())\n",
    "div=[]\n",
    "ndiv=[]\n",
    "for i in range(1,m+1):\n",
    "    if i%n==0:\n",
    "        div.append(i)\n",
    "    else:\n",
    "        ndiv.append(i)\n",
    "g=sum(div)\n",
    "h=sum(ndiv)\n",
    "print(abs(h-g))\n",
    "\n"
   ]
  },
  {
   "cell_type": "code",
   "execution_count": 73,
   "id": "46387b02-49f2-45cf-9ed7-b03747ee5c28",
   "metadata": {},
   "outputs": [
    {
     "name": "stdout",
     "output_type": "stream",
     "text": [
      "[1, 6, 11, 5]\n",
      "[4, 3, 2, 5]\n",
      "[1, 5, 6, 11]\n",
      "[5, 4, 3, 2]\n",
      "9\n"
     ]
    }
   ],
   "source": [
    "n=[4,1,3,6,2,11,5,5]\n",
    "m=[]\n",
    "o=[]\n",
    "for i in range(1,9):\n",
    "    if i%2==0:\n",
    "        m.append(n[i-1])\n",
    "    else:\n",
    "        o.append(n[i-1])\n",
    "print(m)\n",
    "print(o)\n",
    "m.sort()\n",
    "print(m)\n",
    "o.sort()\n",
    "o.sort(reverse=True)\n",
    "print(o)\n",
    "print(o[1]+m[1])"
   ]
  },
  {
   "cell_type": "code",
   "execution_count": 71,
   "id": "7de2e382-e08a-4225-8dee-4eac7bcfed37",
   "metadata": {},
   "outputs": [],
   "source": [
    "def lss(arr):\n",
    "    n=len(arr)\n",
    "    e=arr[0:n:2]\n",
    "    o=arr[1:n:2]\n",
    "    e.sort(reverse=True)\n",
    "    o.sort()\n",
    "    return e[1]+o[1]"
   ]
  },
  {
   "cell_type": "code",
   "execution_count": 72,
   "id": "bc9ad98b-8a15-4efd-a503-bbc5ab0e6cae",
   "metadata": {},
   "outputs": [
    {
     "data": {
      "text/plain": [
       "9"
      ]
     },
     "execution_count": 72,
     "metadata": {},
     "output_type": "execute_result"
    }
   ],
   "source": [
    "lss([4,1,3,6,2,11,5,5])"
   ]
  },
  {
   "cell_type": "code",
   "execution_count": 30,
   "id": "1cfc0ef2-ede8-46e0-8c3e-225f2cd584ef",
   "metadata": {},
   "outputs": [],
   "source": [
    "def product(arr,s):\n",
    "    arr.sort()\n",
    "    n=len(arr)\n",
    "    if n<=2:\n",
    "        print(\"-1\")\n",
    "    arr.sort()\n",
    "    if arr[0]+arr[1]<s:\n",
    "         print(arr[0]*arr[1])\n",
    "    else:\n",
    "           return 0\n",
    "    \n",
    "    \n",
    "        "
   ]
  },
  {
   "cell_type": "code",
   "execution_count": 31,
   "id": "187af492-6971-4d66-a647-8be84081ebcb",
   "metadata": {},
   "outputs": [
    {
     "name": "stdout",
     "output_type": "stream",
     "text": [
      "6\n"
     ]
    }
   ],
   "source": [
    "product([2,4,3,6,9,19],9)"
   ]
  },
  {
   "cell_type": "code",
   "execution_count": 59,
   "id": "d10b1f27-48cb-47db-a9b0-c169268ffcb4",
   "metadata": {},
   "outputs": [],
   "source": [
    "def differ(arr,num,diff):\n",
    "    count=0\n",
    "    for i in arr:\n",
    "        if abs(i-num)<=diff:\n",
    "            count=count+1\n",
    "    if count==0:\n",
    "        return -1\n",
    "    else:\n",
    "        return count\n",
    "    \n",
    "    "
   ]
  },
  {
   "cell_type": "code",
   "execution_count": 60,
   "id": "17dd1742-6be6-4a57-883a-eeb8d1592233",
   "metadata": {},
   "outputs": [
    {
     "data": {
      "text/plain": [
       "2"
      ]
     },
     "execution_count": 60,
     "metadata": {},
     "output_type": "execute_result"
    }
   ],
   "source": [
    "differ([9,7,13,21,5],8,2)"
   ]
  },
  {
   "cell_type": "code",
   "execution_count": 66,
   "id": "69b8f387-b1ff-4d62-afd1-acd2ce715807",
   "metadata": {},
   "outputs": [],
   "source": [
    "def validpara(p):\n",
    "    dict1={'(':')','{':'}','[':']'}\n",
    "    stack=[]\n",
    "    for i in p:\n",
    "        if i in dict1:#found or not found\n",
    "            stack.append(dict1[i])\n",
    "        else:\n",
    "            if stack[-1]==i: #peek\n",
    "                stack.pop()\n",
    "    if len(stack)==0:\n",
    "        return \"valid\"\n",
    "    else:\n",
    "        return \"invaild\"\n",
    "            "
   ]
  },
  {
   "cell_type": "code",
   "execution_count": 67,
   "id": "487d8986-7f0f-4cca-adb0-ce9a30926257",
   "metadata": {},
   "outputs": [
    {
     "data": {
      "text/plain": [
       "'valid'"
      ]
     },
     "execution_count": 67,
     "metadata": {},
     "output_type": "execute_result"
    }
   ],
   "source": [
    "validpara('[{()}]')"
   ]
  },
  {
   "cell_type": "code",
   "execution_count": null,
   "id": "953e0f7e-8589-48f7-9daa-27ba02a0ba33",
   "metadata": {},
   "outputs": [],
   "source": [
    " dict1={'(':')','{':'}','[':']'}\n",
    "        s=[]\n",
    "        for i in s:\n",
    "            if i in dict1:#found or not found\n",
    "                stack.append(dict1[i])\n",
    "            else:\n",
    "                if stack[-1]==i: #peek\n",
    "                    return True\n",
    "                else:\n",
    "                    return False"
   ]
  },
  {
   "cell_type": "code",
   "execution_count": null,
   "id": "e2476ff6-cfcf-4d07-ac1a-958b94e6d2e6",
   "metadata": {},
   "outputs": [],
   "source": [
    "dict1={'(':')','{':'}','[':']'}\n",
    "        stack=[]\n",
    "        for i in s:\n",
    "            if i in dict1:#found or not found\n",
    "                stack.append(dict1[i])\n",
    "            else:\n",
    "                if stack[-1]==i: #peek\n",
    "                    stack.pop()\n",
    "        if len(stack)==0:\n",
    "            return True\n",
    "        else:\n",
    "            return False\n",
    "        "
   ]
  }
 ],
 "metadata": {
  "kernelspec": {
   "display_name": "Python 3 (ipykernel)",
   "language": "python",
   "name": "python3"
  },
  "language_info": {
   "codemirror_mode": {
    "name": "ipython",
    "version": 3
   },
   "file_extension": ".py",
   "mimetype": "text/x-python",
   "name": "python",
   "nbconvert_exporter": "python",
   "pygments_lexer": "ipython3",
   "version": "3.11.7"
  }
 },
 "nbformat": 4,
 "nbformat_minor": 5
}
